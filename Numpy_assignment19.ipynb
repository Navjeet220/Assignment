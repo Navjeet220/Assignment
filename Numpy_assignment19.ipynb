{
 "cells": [
  {
   "cell_type": "markdown",
   "metadata": {},
   "source": [
    "### QUESTION:1 Create a numpy array with 10 elements of the shape(10,1) using np.random and find out the mean of the elements using basic numpy functions. \n",
    "\n"
   ]
  },
  {
   "cell_type": "markdown",
   "metadata": {},
   "source": [
    "### SOLUTION:"
   ]
  },
  {
   "cell_type": "code",
   "execution_count": 6,
   "metadata": {},
   "outputs": [
    {
     "name": "stdout",
     "output_type": "stream",
     "text": [
      "The array is  [[0.56759856]\n",
      " [0.22315353]\n",
      " [0.04831276]\n",
      " [0.3743485 ]\n",
      " [0.38930304]\n",
      " [0.1700953 ]\n",
      " [0.58236401]\n",
      " [0.05533869]\n",
      " [0.26779609]\n",
      " [0.90349322]]\n",
      "The mean of the elements is  0.358180370483262\n"
     ]
    }
   ],
   "source": [
    "import numpy as np\n",
    "array=np.random.rand(10,1)\n",
    "print(\"The array is \",array)\n",
    "print(\"The mean of the elements is \",array.mean())"
   ]
  },
  {
   "cell_type": "markdown",
   "metadata": {},
   "source": [
    "### QUESTION:2 Q.2 - Create a numpy array with 20 elements of the shape(20,1) using np.random find the variance and standard deviation of the elements. \n",
    "\n"
   ]
  },
  {
   "cell_type": "markdown",
   "metadata": {},
   "source": [
    "### SOLUTION:"
   ]
  },
  {
   "cell_type": "code",
   "execution_count": 8,
   "metadata": {},
   "outputs": [
    {
     "name": "stdout",
     "output_type": "stream",
     "text": [
      "The array is  [[0.329586  ]\n",
      " [0.89289437]\n",
      " [0.72547078]\n",
      " [0.37411213]\n",
      " [0.91116668]\n",
      " [0.6064282 ]\n",
      " [0.50408772]\n",
      " [0.26334026]\n",
      " [0.0069586 ]\n",
      " [0.1137386 ]\n",
      " [0.45786317]\n",
      " [0.29685739]\n",
      " [0.5554721 ]\n",
      " [0.67573322]\n",
      " [0.91548855]\n",
      " [0.60704215]\n",
      " [0.09303331]\n",
      " [0.19734832]\n",
      " [0.20708606]\n",
      " [0.24999568]]\n",
      "The variance of the elements is  0.07468786020139011\n",
      "The standard deviation of the elements is  0.2732907978717727\n"
     ]
    }
   ],
   "source": [
    "import numpy as np\n",
    "array=np.random.rand(20,1)\n",
    "print(\"The array is \",array)\n",
    "print(\"The variance of the elements is \",array.var())\n",
    "print(\"The standard deviation of the elements is \",array.std())"
   ]
  },
  {
   "cell_type": "markdown",
   "metadata": {},
   "source": [
    "### QUESTION:3 Create a numpy array A of shape(10,20) and B of shape (20,25) using np.random. Print the matrix which is the matrix multiplication of A and B. The shape of the new matrix should be (10,25). Using basic numpy math functions only find the sum of all the elements of the new matrix. "
   ]
  },
  {
   "cell_type": "markdown",
   "metadata": {},
   "source": [
    "### SOLUTION:"
   ]
  },
  {
   "cell_type": "code",
   "execution_count": 15,
   "metadata": {},
   "outputs": [
    {
     "name": "stdout",
     "output_type": "stream",
     "text": [
      "The multiplication of array A and B is arrayC  [[5.8811655  4.52387224 5.40261361 4.43845507 4.66479425 5.59877923\n",
      "  3.97721666 3.81850679 6.75034269 5.06610286 5.64405828 5.89208709\n",
      "  5.79401104 4.63022906 6.12150167 6.63740415 6.23485586 5.22035906\n",
      "  4.79414721 4.64082842 4.51002471 6.43909723 5.26704844 4.70660258\n",
      "  4.50975941]\n",
      " [6.75522711 5.37541503 6.01413493 5.05478616 4.88486681 6.29430857\n",
      "  4.29344838 4.02084894 7.31206717 5.65765454 5.37158833 5.83371155\n",
      "  6.38548004 4.65388267 6.3444944  6.6551244  5.66102869 5.07239718\n",
      "  5.66057527 5.4395321  5.0015301  6.46691452 5.80478908 5.81092611\n",
      "  5.15260517]\n",
      " [5.03881003 4.19318722 5.42120955 4.02007556 4.49200847 5.3629083\n",
      "  3.20528222 3.37599945 6.48615097 5.02916578 4.44464769 4.77298133\n",
      "  5.13270394 4.10823628 4.84194743 5.17300737 5.37157036 4.25618474\n",
      "  4.43066492 4.52547899 3.8809303  4.98407038 4.72737176 4.48412833\n",
      "  4.17599793]\n",
      " [5.86062788 4.07323007 5.19699726 3.69427898 3.69487641 4.02287549\n",
      "  4.27406316 2.78924805 6.15888284 4.02027752 4.46487748 4.11744454\n",
      "  4.68024938 3.05194962 5.18300987 4.7316073  4.85806973 4.20711839\n",
      "  4.45732089 4.33118052 3.8738594  4.73610917 3.55754455 4.26282985\n",
      "  3.52626128]\n",
      " [5.6082773  4.51153418 5.93253908 4.70434137 3.97782895 5.09037426\n",
      "  4.76873275 3.87356531 6.8143019  4.39067803 4.22495438 4.9563083\n",
      "  4.8892508  4.30234564 5.11160131 5.27009383 5.03233831 4.25224975\n",
      "  5.02043258 4.67721416 4.058861   5.84063007 4.69312425 5.51031791\n",
      "  3.90813466]\n",
      " [6.73335898 6.07829193 6.23272685 4.48360369 4.82031652 5.32381558\n",
      "  4.52634954 4.1250922  7.41830772 5.5516796  5.41727643 5.66447498\n",
      "  6.89186443 5.01465613 6.12019413 5.63548965 6.32398623 4.87247922\n",
      "  5.73131792 5.7738393  4.91117729 6.88475123 5.43082298 5.59611365\n",
      "  5.74536432]\n",
      " [3.83494872 3.61240779 4.04445518 3.09515403 3.31903776 3.66213616\n",
      "  2.45445856 2.93936624 5.17345675 3.5398596  3.40406378 3.83270104\n",
      "  4.02423422 3.35286068 3.42590303 3.86859163 4.94518803 3.25453476\n",
      "  3.84301354 4.04495156 3.04537853 4.05589796 4.15755429 3.61244862\n",
      "  3.20485312]\n",
      " [6.64703127 5.77691768 6.30049916 4.21908473 4.53160261 5.51367736\n",
      "  4.99276642 3.84000772 7.27136028 5.14676879 6.11163371 5.0611299\n",
      "  6.51628657 5.20595352 5.55210249 5.96981923 5.70113209 5.05135677\n",
      "  5.07385501 4.18892674 4.63236103 6.50111091 4.78449114 5.34765616\n",
      "  4.72013674]\n",
      " [5.62142119 5.49461363 5.26282782 4.39971582 4.25134277 5.95525928\n",
      "  3.45214005 3.52484743 6.36209793 5.31877222 5.17302746 4.5682814\n",
      "  5.58007717 5.08466175 5.06445244 5.95252817 5.48205348 4.75750869\n",
      "  5.36043645 4.31297333 3.87720328 5.92203139 5.81847289 4.87040281\n",
      "  4.40897323]\n",
      " [6.25073681 5.28945583 5.66575297 4.65645012 4.51005916 5.32891953\n",
      "  4.05300065 3.38527209 6.90676479 4.55471865 4.68326736 4.85058496\n",
      "  6.14776482 4.21074157 5.27551309 5.83761306 5.4403284  4.14276325\n",
      "  5.00826841 5.21886381 4.57365215 6.61000336 5.49720776 5.58853266\n",
      "  4.83548152]]\n",
      "The sum of arrayC elements is  1239.4310523104384\n"
     ]
    }
   ],
   "source": [
    "import numpy as np\n",
    "arrayA=np.random.rand(10,20)\n",
    "arrayB=np.random.rand(20,25)\n",
    "arrayC=np.matmul(arrayA,arrayB)\n",
    "print(\"The multiplication of array A and B is arrayC \",arrayC)\n",
    "print(\"The sum of arrayC elements is \",arrayC.sum())"
   ]
  },
  {
   "cell_type": "markdown",
   "metadata": {},
   "source": [
    "### QUESTION:4 Create a numpy array A of shape(10,1).Using the basic operations of the numpy array generate an array of shape(10,1) such that each element is the following function applied on each element of A. \n"
   ]
  },
  {
   "cell_type": "markdown",
   "metadata": {},
   "source": [
    "### SOLUTION:"
   ]
  },
  {
   "cell_type": "code",
   "execution_count": 30,
   "metadata": {},
   "outputs": [
    {
     "name": "stdout",
     "output_type": "stream",
     "text": [
      "[[0.8487425 ]\n",
      " [0.92402903]\n",
      " [0.00347035]\n",
      " [0.63623307]\n",
      " [0.15719796]\n",
      " [0.58592096]\n",
      " [0.28636534]\n",
      " [0.46398163]\n",
      " [0.60576099]\n",
      " [0.79534776]]\n",
      "[[0.70030329]\n",
      " [0.71586234]\n",
      " [0.50086759]\n",
      " [0.65390145]\n",
      " [0.53921876]\n",
      " [0.64242868]\n",
      " [0.57110608]\n",
      " [0.6139583 ]\n",
      " [0.64697322]\n",
      " [0.68897844]]\n"
     ]
    }
   ],
   "source": [
    "import numpy as np\n",
    "import math\n",
    "A=np.random.rand(10,1)\n",
    "print(A)\n",
    "def func(x):\n",
    "    return(1/(1 + np.exp(-x)))\n",
    "result=np.apply_along_axis(func, 0, A)\n",
    "print(result)\n"
   ]
  },
  {
   "cell_type": "code",
   "execution_count": null,
   "metadata": {},
   "outputs": [],
   "source": []
  },
  {
   "cell_type": "code",
   "execution_count": null,
   "metadata": {},
   "outputs": [],
   "source": []
  }
 ],
 "metadata": {
  "kernelspec": {
   "display_name": "Python 3",
   "language": "python",
   "name": "python3"
  },
  "language_info": {
   "codemirror_mode": {
    "name": "ipython",
    "version": 3
   },
   "file_extension": ".py",
   "mimetype": "text/x-python",
   "name": "python",
   "nbconvert_exporter": "python",
   "pygments_lexer": "ipython3",
   "version": "3.6.5"
  }
 },
 "nbformat": 4,
 "nbformat_minor": 1
}
